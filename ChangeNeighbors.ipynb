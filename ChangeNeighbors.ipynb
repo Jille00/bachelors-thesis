{
 "cells": [
  {
   "cell_type": "code",
   "execution_count": 1,
   "metadata": {},
   "outputs": [],
   "source": [
    "from main import *"
   ]
  },
  {
   "cell_type": "code",
   "execution_count": 2,
   "metadata": {},
   "outputs": [
    {
     "name": "stdout",
     "output_type": "stream",
     "text": [
      "Loading saved data...\n",
      "Data loaded in: 30.838003635406494 seconds\n",
      "Loading saved embedding...\n",
      "Embedding loaded in: 4.6617701053619385 seconds\n"
     ]
    },
    {
     "name": "stderr",
     "output_type": "stream",
     "text": [
      "100%|██████████████████████████████████████████| 10/10 [01:49<00:00, 10.96s/it]\n",
      "100%|█████████████████████████████████████████| 5/5 [1:16:07<00:00, 913.55s/it]\n"
     ]
    },
    {
     "name": "stdout",
     "output_type": "stream",
     "text": [
      "Scores calculated in 4679.7920043468475 seconds\n",
      "HDBSCAN does not classify 18358 samples\n"
     ]
    }
   ],
   "source": [
    "scores_10 = run_dimension(6, 10, calculate_scores=True)"
   ]
  },
  {
   "cell_type": "code",
   "execution_count": 3,
   "metadata": {},
   "outputs": [
    {
     "name": "stdout",
     "output_type": "stream",
     "text": [
      "Loading saved data...\n",
      "Data loaded in: 31.25040030479431 seconds\n",
      "Loading saved embedding...\n",
      "Embedding loaded in: 6.618157863616943 seconds\n"
     ]
    },
    {
     "name": "stderr",
     "output_type": "stream",
     "text": [
      "100%|██████████████████████████████████████████| 10/10 [01:51<00:00, 11.13s/it]\n",
      "100%|█████████████████████████████████████████| 5/5 [1:18:02<00:00, 936.55s/it]\n"
     ]
    },
    {
     "name": "stdout",
     "output_type": "stream",
     "text": [
      "Scores calculated in 4796.5376608371735 seconds\n",
      "HDBSCAN does not classify 18358 samples\n"
     ]
    }
   ],
   "source": [
    "scores_30 = run_dimension(6, 30, calculate_scores=True)"
   ]
  },
  {
   "cell_type": "code",
   "execution_count": 4,
   "metadata": {},
   "outputs": [
    {
     "name": "stdout",
     "output_type": "stream",
     "text": [
      "Loading saved data...\n",
      "Data loaded in: 31.584598302841187 seconds\n",
      "Loading saved embedding...\n",
      "Embedding loaded in: 7.01235556602478 seconds\n"
     ]
    },
    {
     "name": "stderr",
     "output_type": "stream",
     "text": [
      "100%|██████████████████████████████████████████| 10/10 [01:51<00:00, 11.15s/it]\n",
      "100%|█████████████████████████████████████████| 5/5 [1:18:27<00:00, 941.47s/it]\n"
     ]
    },
    {
     "name": "stdout",
     "output_type": "stream",
     "text": [
      "Scores calculated in 4821.3529007434845 seconds\n",
      "HDBSCAN does not classify 18358 samples\n"
     ]
    }
   ],
   "source": [
    "scores_50 = run_dimension(6, 50, calculate_scores=True)"
   ]
  },
  {
   "cell_type": "code",
   "execution_count": 7,
   "metadata": {},
   "outputs": [],
   "source": [
    "li = np.array([scores_10, scores_30, scores_50])"
   ]
  },
  {
   "cell_type": "code",
   "execution_count": 8,
   "metadata": {},
   "outputs": [
    {
     "data": {
      "text/plain": [
       "array([0.38646426, 0.3886443 , 0.38451235])"
      ]
     },
     "execution_count": 8,
     "metadata": {},
     "output_type": "execute_result"
    }
   ],
   "source": [
    "li[:,0]"
   ]
  },
  {
   "cell_type": "code",
   "execution_count": 11,
   "metadata": {},
   "outputs": [
    {
     "data": {
      "text/plain": [
       "array([1.63335846, 1.63335846, 1.63335846])"
      ]
     },
     "execution_count": 11,
     "metadata": {},
     "output_type": "execute_result"
    }
   ],
   "source": [
    "li[:,1]"
   ]
  },
  {
   "cell_type": "code",
   "execution_count": 12,
   "metadata": {},
   "outputs": [
    {
     "data": {
      "text/plain": [
       "array([0.00923312, 0.0086932 , 0.00901025])"
      ]
     },
     "execution_count": 12,
     "metadata": {},
     "output_type": "execute_result"
    }
   ],
   "source": [
    "li[:,2]"
   ]
  },
  {
   "cell_type": "code",
   "execution_count": null,
   "metadata": {},
   "outputs": [],
   "source": []
  }
 ],
 "metadata": {
  "kernelspec": {
   "display_name": "Python 3",
   "language": "python",
   "name": "python3"
  },
  "language_info": {
   "codemirror_mode": {
    "name": "ipython",
    "version": 3
   },
   "file_extension": ".py",
   "mimetype": "text/x-python",
   "name": "python",
   "nbconvert_exporter": "python",
   "pygments_lexer": "ipython3",
   "version": "3.8.5"
  }
 },
 "nbformat": 4,
 "nbformat_minor": 4
}
