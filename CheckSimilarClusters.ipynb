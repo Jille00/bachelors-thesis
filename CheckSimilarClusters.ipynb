{
 "cells": [
  {
   "cell_type": "code",
   "execution_count": 17,
   "metadata": {},
   "outputs": [],
   "source": [
    "import pickle\n",
    "import os\n",
    "from load_data import LoadData\n",
    "import time\n",
    "import pandas as pd\n",
    "import numpy as np\n",
    "from collections import Counter\n",
    "from sklearn.metrics.pairwise import pairwise_distances\n",
    "from tqdm import tqdm"
   ]
  },
  {
   "cell_type": "code",
   "execution_count": 2,
   "metadata": {},
   "outputs": [],
   "source": [
    "PATH = 'C:/Users/jtogt2/Notebook/data/embeddings/'\n",
    "dimensions = 6\n",
    "n_neighbors = 30"
   ]
  },
  {
   "cell_type": "code",
   "execution_count": 3,
   "metadata": {},
   "outputs": [],
   "source": [
    "embedding = pickle.load((open(f'{PATH}embedding_{dimensions}_{n_neighbors}', 'rb')))"
   ]
  },
  {
   "cell_type": "code",
   "execution_count": 4,
   "metadata": {},
   "outputs": [
    {
     "name": "stdout",
     "output_type": "stream",
     "text": [
      "Loading saved data...\n",
      "Data loaded in: 30.934802293777466 seconds\n"
     ]
    }
   ],
   "source": [
    "loader = LoadData()\n",
    "PATH = 'C:/Users/jtogt2/Notebook/data/'\n",
    "\n",
    "if os.path.isfile(PATH + 'processed_dataframe.csv'):\n",
    "    print(\"Loading saved data...\")\n",
    "    start = time.time()\n",
    "    loader.load_processed_frame()\n",
    "    dataset = loader.retrieve_measure_frame()\n",
    "    print(f\"Data loaded in: {time.time() - start} seconds\")\n",
    "else:\n",
    "    print(\"Preprocessing data...\")\n",
    "    start = time.time()\n",
    "    loader.load_celldyn()\n",
    "    loader.preprocess()\n",
    "    dataset = loader.retrieve_measure_frame()\n",
    "    print(f\"Data processed in: {time.time() - start} seconds\")"
   ]
  },
  {
   "cell_type": "code",
   "execution_count": 5,
   "metadata": {},
   "outputs": [],
   "source": [
    "subset_wi_ga = dataset\n",
    "subset_wo_ga = subset_wi_ga.loc[:, [i for i in subset_wi_ga.columns if i[:3] == 'c_b']]"
   ]
  },
  {
   "cell_type": "code",
   "execution_count": 6,
   "metadata": {},
   "outputs": [],
   "source": [
    "embedded_dataset = embedding.transform(subset_wo_ga)"
   ]
  },
  {
   "cell_type": "code",
   "execution_count": 7,
   "metadata": {},
   "outputs": [],
   "source": [
    "df = pd.DataFrame(data=embedded_dataset,\n",
    "                          index=np.arange(0,len(embedded_dataset)),\n",
    "                          columns=['f' + str(i) for i in range(len(embedded_dataset[0]))])\n"
   ]
  },
  {
   "cell_type": "code",
   "execution_count": 8,
   "metadata": {},
   "outputs": [],
   "source": [
    "PATH = 'C:/Users/jtogt2/Notebook/data/embeddings/'\n",
    "labels = np.genfromtxt(f'{PATH}embedding_{dimensions}_labels.csv', delimiter=',')"
   ]
  },
  {
   "cell_type": "code",
   "execution_count": 9,
   "metadata": {},
   "outputs": [],
   "source": [
    "df['cluster_assignment'] = labels\n",
    "df_1 = df[df['cluster_assignment'] >= 0]"
   ]
  },
  {
   "cell_type": "code",
   "execution_count": 10,
   "metadata": {},
   "outputs": [],
   "source": [
    "grouped_df = df_1.groupby('cluster_assignment')"
   ]
  },
  {
   "cell_type": "code",
   "execution_count": 12,
   "metadata": {},
   "outputs": [],
   "source": [
    "li = []\n",
    "for index, i in enumerate(grouped_df):\n",
    "    a = i[1]\n",
    "    a = a.drop('cluster_assignment', axis=1)\n",
    "    li.append(a)"
   ]
  },
  {
   "cell_type": "code",
   "execution_count": 13,
   "metadata": {},
   "outputs": [],
   "source": [
    "from scipy.spatial.distance import directed_hausdorff"
   ]
  },
  {
   "cell_type": "code",
   "execution_count": 32,
   "metadata": {},
   "outputs": [
    {
     "name": "stderr",
     "output_type": "stream",
     "text": [
      "0it [00:00, ?it/s]<ipython-input-32-f19f066c6277>:6: UserWarning: `x` isn't a recognized object; `shuffle` is not guaranteed to behave correctly. E.g., non-numpy array/tensor objects with view semantics may contain duplicates after shuffling.\n",
      "  sim_li[ind].append(directed_hausdorff(i, li[ind])[0])\n",
      "77it [1:20:38, 62.84s/it] \n"
     ]
    }
   ],
   "source": [
    "ind = 0\n",
    "sim_li = [[] for i in range(len(li))]\n",
    "for ind, _ in tqdm(enumerate(li)):\n",
    "    for index, i in enumerate(li):\n",
    "        if ind != index:\n",
    "            sim_li[ind].append(directed_hausdorff(i, li[ind])[0])\n",
    "        else:\n",
    "            sim_li[ind].append(np.inf) "
   ]
  },
  {
   "cell_type": "code",
   "execution_count": 33,
   "metadata": {},
   "outputs": [],
   "source": [
    "sim_li = np.array(sim_li)"
   ]
  },
  {
   "cell_type": "code",
   "execution_count": 73,
   "metadata": {},
   "outputs": [],
   "source": [
    "close_li = []\n",
    "for index, i in enumerate(sim_li):\n",
    "    if np.min(i) < 1:\n",
    "        close_li.append((index, np.argmin(i)))\n",
    "close_li = np.array(close_li)"
   ]
  },
  {
   "cell_type": "code",
   "execution_count": 74,
   "metadata": {},
   "outputs": [],
   "source": [
    "close_li = [sorted(i) for i in close_li]"
   ]
  },
  {
   "cell_type": "code",
   "execution_count": 75,
   "metadata": {},
   "outputs": [
    {
     "data": {
      "text/plain": [
       "[[4, 5],\n",
       " [7, 8],\n",
       " [12, 13],\n",
       " [29, 30],\n",
       " [29, 30],\n",
       " [33, 52],\n",
       " [33, 52],\n",
       " [55, 65],\n",
       " [56, 57],\n",
       " [56, 57],\n",
       " [18, 59],\n",
       " [60, 61],\n",
       " [60, 61],\n",
       " [64, 65],\n",
       " [64, 65],\n",
       " [66, 67],\n",
       " [66, 67],\n",
       " [71, 72],\n",
       " [73, 74],\n",
       " [73, 74],\n",
       " [75, 76],\n",
       " [75, 76]]"
      ]
     },
     "execution_count": 75,
     "metadata": {},
     "output_type": "execute_result"
    }
   ],
   "source": [
    "close_li"
   ]
  },
  {
   "cell_type": "code",
   "execution_count": 76,
   "metadata": {},
   "outputs": [],
   "source": [
    "dupes = [x for n, x in enumerate(close_li) if x in close_li[:n]]"
   ]
  },
  {
   "cell_type": "code",
   "execution_count": 77,
   "metadata": {},
   "outputs": [
    {
     "data": {
      "text/plain": [
       "[[29, 30],\n",
       " [33, 52],\n",
       " [56, 57],\n",
       " [60, 61],\n",
       " [64, 65],\n",
       " [66, 67],\n",
       " [73, 74],\n",
       " [75, 76]]"
      ]
     },
     "execution_count": 77,
     "metadata": {},
     "output_type": "execute_result"
    }
   ],
   "source": [
    "dupes"
   ]
  },
  {
   "cell_type": "code",
   "execution_count": 78,
   "metadata": {},
   "outputs": [],
   "source": [
    "from main import *"
   ]
  },
  {
   "cell_type": "code",
   "execution_count": 79,
   "metadata": {},
   "outputs": [
    {
     "name": "stdout",
     "output_type": "stream",
     "text": [
      "Loading saved data...\n",
      "Data loaded in: 33.74074697494507 seconds\n",
      "Loading saved embedding...\n",
      "Embedding loaded in: 3.6067209243774414 seconds\n",
      "HDBSCAN does not classify 19371 samples\n"
     ]
    }
   ],
   "source": [
    "result = run_dimension(6, frames=True)"
   ]
  },
  {
   "cell_type": "code",
   "execution_count": 80,
   "metadata": {},
   "outputs": [],
   "source": [
    "sim_df = pd.DataFrame()"
   ]
  },
  {
   "cell_type": "code",
   "execution_count": 81,
   "metadata": {},
   "outputs": [],
   "source": [
    "for i in dupes:\n",
    "    sim_df = sim_df.append(result.loc[(\"mean\", i[0])])\n",
    "    sim_df = sim_df.append(result.loc[(\"mean\", i[1])])\n",
    "    sim_df = sim_df.append(pd.Series(0, index=sim_df.columns), ignore_index=True)"
   ]
  },
  {
   "cell_type": "code",
   "execution_count": 82,
   "metadata": {},
   "outputs": [],
   "source": [
    "PATH = 'C:/Users/jtogt2/Notebook/cluster_analysis/frames/'\n",
    "sim_df.to_excel(f'{PATH}sim_df.xlsx')"
   ]
  },
  {
   "cell_type": "code",
   "execution_count": 86,
   "metadata": {},
   "outputs": [],
   "source": [
    "x = result.loc['mean']"
   ]
  },
  {
   "cell_type": "code",
   "execution_count": 87,
   "metadata": {},
   "outputs": [],
   "source": [
    "x.to_excel(f'{PATH}result_cluster_{dimensions}_means.xlsx')"
   ]
  },
  {
   "cell_type": "code",
   "execution_count": null,
   "metadata": {},
   "outputs": [],
   "source": []
  }
 ],
 "metadata": {
  "kernelspec": {
   "display_name": "Python 3",
   "language": "python",
   "name": "python3"
  },
  "language_info": {
   "codemirror_mode": {
    "name": "ipython",
    "version": 3
   },
   "file_extension": ".py",
   "mimetype": "text/x-python",
   "name": "python",
   "nbconvert_exporter": "python",
   "pygments_lexer": "ipython3",
   "version": "3.8.5"
  }
 },
 "nbformat": 4,
 "nbformat_minor": 4
}
