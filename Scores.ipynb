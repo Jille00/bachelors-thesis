{
 "cells": [
  {
   "cell_type": "code",
   "execution_count": 1,
   "metadata": {},
   "outputs": [],
   "source": [
    "from main import *"
   ]
  },
  {
   "cell_type": "code",
   "execution_count": 2,
   "metadata": {},
   "outputs": [
    {
     "name": "stdout",
     "output_type": "stream",
     "text": [
      "Loading saved data...\n",
      "Data loaded in: 33.07200002670288 seconds\n",
      "Loading saved embedding...\n",
      "Embedding loaded in: 5.840000152587891 seconds\n"
     ]
    },
    {
     "name": "stderr",
     "output_type": "stream",
     "text": [
      "100%|████████████████████████████████████████| 5/5 [1:27:39<00:00, 1051.92s/it]\n"
     ]
    },
    {
     "name": "stdout",
     "output_type": "stream",
     "text": [
      "Scores calculated in 5259.593000173569 seconds\n",
      "HDBSCAN does not classify 13292 samples\n"
     ]
    }
   ],
   "source": [
    "scores_3 = run_dimension(3, calculate_score=True)"
   ]
  },
  {
   "cell_type": "code",
   "execution_count": 6,
   "metadata": {},
   "outputs": [
    {
     "name": "stdout",
     "output_type": "stream",
     "text": [
      "Loading saved data...\n",
      "Data loaded in: 33.997000217437744 seconds\n",
      "Loading saved embedding...\n",
      "Embedding loaded in: 7.16100001335144 seconds\n"
     ]
    },
    {
     "name": "stderr",
     "output_type": "stream",
     "text": [
      "100%|████████████████████████████████████████| 5/5 [1:25:44<00:00, 1028.95s/it]\n"
     ]
    },
    {
     "name": "stdout",
     "output_type": "stream",
     "text": [
      "Scores calculated in 5144.731000185013 seconds\n",
      "HDBSCAN does not classify 15513 samples\n"
     ]
    }
   ],
   "source": [
    "scores_4 = run_dimension(4, calculate_score=True)"
   ]
  },
  {
   "cell_type": "code",
   "execution_count": 7,
   "metadata": {},
   "outputs": [
    {
     "name": "stdout",
     "output_type": "stream",
     "text": [
      "Loading saved data...\n",
      "Data loaded in: 34.0239999294281 seconds\n",
      "Loading saved embedding...\n",
      "Embedding loaded in: 5.648000001907349 seconds\n"
     ]
    },
    {
     "name": "stderr",
     "output_type": "stream",
     "text": [
      "100%|█████████████████████████████████████████| 5/5 [1:19:31<00:00, 954.27s/it]\n"
     ]
    },
    {
     "name": "stdout",
     "output_type": "stream",
     "text": [
      "Scores calculated in 4771.369999885559 seconds\n",
      "HDBSCAN does not classify 13634 samples\n"
     ]
    }
   ],
   "source": [
    "scores_5 = run_dimension(5, calculate_score=True)"
   ]
  },
  {
   "cell_type": "code",
   "execution_count": 8,
   "metadata": {},
   "outputs": [
    {
     "name": "stdout",
     "output_type": "stream",
     "text": [
      "Loading saved data...\n",
      "Data loaded in: 34.378000020980835 seconds\n",
      "Loading saved embedding...\n",
      "Embedding loaded in: 5.7789998054504395 seconds\n"
     ]
    },
    {
     "name": "stderr",
     "output_type": "stream",
     "text": [
      "100%|█████████████████████████████████████████| 5/5 [1:21:58<00:00, 983.79s/it]\n"
     ]
    },
    {
     "name": "stdout",
     "output_type": "stream",
     "text": [
      "Scores calculated in 4918.96599984169 seconds\n",
      "HDBSCAN does not classify 18358 samples\n"
     ]
    }
   ],
   "source": [
    "scores_6 = run_dimension(6, calculate_score=True)"
   ]
  },
  {
   "cell_type": "code",
   "execution_count": 9,
   "metadata": {},
   "outputs": [
    {
     "name": "stdout",
     "output_type": "stream",
     "text": [
      "Loading saved data...\n",
      "Data loaded in: 34.26600003242493 seconds\n",
      "Loading saved embedding...\n",
      "Embedding loaded in: 5.7870001792907715 seconds\n"
     ]
    },
    {
     "name": "stderr",
     "output_type": "stream",
     "text": [
      "100%|█████████████████████████████████████████| 5/5 [1:22:19<00:00, 987.98s/it]\n"
     ]
    },
    {
     "name": "stdout",
     "output_type": "stream",
     "text": [
      "Scores calculated in 4939.901999950409 seconds\n",
      "HDBSCAN does not classify 22031 samples\n"
     ]
    }
   ],
   "source": [
    "scores_7 = run_dimension(7, calculate_score=True)"
   ]
  },
  {
   "cell_type": "code",
   "execution_count": 10,
   "metadata": {},
   "outputs": [
    {
     "name": "stdout",
     "output_type": "stream",
     "text": [
      "Loading saved data...\n",
      "Data loaded in: 34.621999979019165 seconds\n",
      "Loading saved embedding...\n",
      "Embedding loaded in: 7.3429999351501465 seconds\n"
     ]
    },
    {
     "name": "stderr",
     "output_type": "stream",
     "text": [
      "100%|█████████████████████████████████████████| 5/5 [1:18:43<00:00, 944.65s/it]\n"
     ]
    },
    {
     "name": "stdout",
     "output_type": "stream",
     "text": [
      "Scores calculated in 4723.243999958038 seconds\n",
      "HDBSCAN does not classify 19243 samples\n"
     ]
    }
   ],
   "source": [
    "scores_8 = run_dimension(8, calculate_score=True)"
   ]
  },
  {
   "cell_type": "code",
   "execution_count": null,
   "metadata": {},
   "outputs": [],
   "source": [
    "sil = [scores_3[0], scores_4[0], scores_5[0], scores_6[0], scores_7[0], scores_8[0]]\n",
    "dav = [scores_3[1], scores_4[1], scores_5[1], scores_6[1], scores_7[1], scores_8[1]]\n",
    "dun = [scores_3[2], scores_4[2], scores_5[2], scores_6[2], scores_7[2], scores_8[2]]"
   ]
  },
  {
   "cell_type": "code",
   "execution_count": null,
   "metadata": {},
   "outputs": [],
   "source": [
    "fig = plt.figure()\n",
    "plt.plot([1000,2000,5000,10000, 30000], sil.T);\n",
    "plt.title(\"Silhouette score over different sample amounts and dimensions\")\n",
    "plt.xlabel('Samples taken')\n",
    "plt.ylabel('Silhouette score')\n",
    "plt.xticks([2000,5000,10000,20000,30000,50000], rotation=295)\n",
    "plt.legend(['3D', '4D', '5D', '6D', '7D', '8D'])\n",
    "plt.show()"
   ]
  },
  {
   "cell_type": "code",
   "execution_count": null,
   "metadata": {},
   "outputs": [],
   "source": [
    "dav"
   ]
  },
  {
   "cell_type": "code",
   "execution_count": null,
   "metadata": {},
   "outputs": [],
   "source": [
    "dun"
   ]
  },
  {
   "cell_type": "code",
   "execution_count": null,
   "metadata": {},
   "outputs": [],
   "source": []
  }
 ],
 "metadata": {
  "kernelspec": {
   "display_name": "Python 3",
   "language": "python",
   "name": "python3"
  },
  "language_info": {
   "codemirror_mode": {
    "name": "ipython",
    "version": 3
   },
   "file_extension": ".py",
   "mimetype": "text/x-python",
   "name": "python",
   "nbconvert_exporter": "python",
   "pygments_lexer": "ipython3",
   "version": "3.8.5"
  }
 },
 "nbformat": 4,
 "nbformat_minor": 4
}
