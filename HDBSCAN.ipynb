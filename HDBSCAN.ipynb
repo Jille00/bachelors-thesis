{
 "cells": [
  {
   "cell_type": "code",
   "execution_count": 1,
   "metadata": {},
   "outputs": [],
   "source": [
    "from main import *"
   ]
  },
  {
   "cell_type": "code",
   "execution_count": 2,
   "metadata": {},
   "outputs": [
    {
     "name": "stdout",
     "output_type": "stream",
     "text": [
      "Loading saved data...\n",
      "Data loaded in: 34.09158372879028 seconds\n",
      "Loading saved embedding...\n",
      "Embedding loaded in: 5.49616551399231 seconds\n",
      "Clustering embedding...\n",
      "Embedding clustered in: 555.8106393814087 seconds\n",
      "Saving embedding cluster labels...\n",
      "Embedding cluster labels saved in: 4.456371545791626 seconds\n"
     ]
    },
    {
     "name": "stderr",
     "output_type": "stream",
     "text": [
      "100%|██████████████████████████████████████████| 10/10 [01:49<00:00, 10.98s/it]\n",
      "100%|███████████████████████████████████████████| 5/5 [36:20<00:00, 436.09s/it]\n"
     ]
    },
    {
     "name": "stdout",
     "output_type": "stream",
     "text": [
      "Scores calculated in 2292.700718641281 seconds\n"
     ]
    }
   ],
   "source": [
    "scores_1_1000 = run_dimension(6, min_samples=1, min_cluster_size=1000, scores=True)"
   ]
  },
  {
   "cell_type": "code",
   "execution_count": 3,
   "metadata": {},
   "outputs": [
    {
     "name": "stdout",
     "output_type": "stream",
     "text": [
      "Loading saved data...\n",
      "Data loaded in: 31.18600106239319 seconds\n",
      "Loading saved embedding...\n",
      "Embedding loaded in: 3.4103784561157227 seconds\n",
      "Clustering embedding...\n",
      "Embedding clustered in: 480.4229226112366 seconds\n",
      "Saving embedding cluster labels...\n",
      "Embedding cluster labels saved in: 4.477371692657471 seconds\n"
     ]
    },
    {
     "name": "stderr",
     "output_type": "stream",
     "text": [
      "100%|██████████████████████████████████████████| 10/10 [01:51<00:00, 11.12s/it]\n",
      "100%|███████████████████████████████████████████| 5/5 [36:21<00:00, 436.34s/it]\n"
     ]
    },
    {
     "name": "stdout",
     "output_type": "stream",
     "text": [
      "Scores calculated in 2295.307102203369 seconds\n"
     ]
    }
   ],
   "source": [
    "scores_10_1000 = run_dimension(6, min_samples=10, min_cluster_size=1000, scores=True)"
   ]
  },
  {
   "cell_type": "code",
   "execution_count": 4,
   "metadata": {},
   "outputs": [
    {
     "name": "stdout",
     "output_type": "stream",
     "text": [
      "Loading saved data...\n",
      "Data loaded in: 31.677399158477783 seconds\n",
      "Loading saved embedding...\n",
      "Embedding loaded in: 3.289579391479492 seconds\n",
      "Clustering embedding...\n",
      "Embedding clustered in: 465.5650177001953 seconds\n",
      "Saving embedding cluster labels...\n",
      "Embedding cluster labels saved in: 4.576971054077148 seconds\n"
     ]
    },
    {
     "name": "stderr",
     "output_type": "stream",
     "text": [
      "100%|██████████████████████████████████████████| 10/10 [01:50<00:00, 11.10s/it]\n",
      "100%|███████████████████████████████████████████| 5/5 [37:55<00:00, 455.13s/it]\n"
     ]
    },
    {
     "name": "stdout",
     "output_type": "stream",
     "text": [
      "Scores calculated in 2389.092899799347 seconds\n"
     ]
    }
   ],
   "source": [
    "scores_100_1000 = run_dimension(6, min_samples=20, min_cluster_size=1000, scores=True)"
   ]
  },
  {
   "cell_type": "code",
   "execution_count": 5,
   "metadata": {},
   "outputs": [
    {
     "name": "stdout",
     "output_type": "stream",
     "text": [
      "Loading saved data...\n",
      "Data loaded in: 31.697797536849976 seconds\n",
      "Loading saved embedding...\n",
      "Embedding loaded in: 3.425978660583496 seconds\n"
     ]
    },
    {
     "name": "stderr",
     "output_type": "stream",
     "text": [
      "100%|██████████████████████████████████████████| 10/10 [01:51<00:00, 11.14s/it]\n",
      "100%|███████████████████████████████████████████| 5/5 [38:26<00:00, 461.33s/it]\n"
     ]
    },
    {
     "name": "stdout",
     "output_type": "stream",
     "text": [
      "Scores calculated in 2420.5664989948273 seconds\n"
     ]
    }
   ],
   "source": [
    "scores_1000_1000 = run_dimension(6, min_samples=30, min_cluster_size=1000, scores=True)"
   ]
  },
  {
   "cell_type": "code",
   "execution_count": 6,
   "metadata": {},
   "outputs": [
    {
     "name": "stdout",
     "output_type": "stream",
     "text": [
      "Loading saved data...\n",
      "Data loaded in: 31.842196464538574 seconds\n",
      "Loading saved embedding...\n",
      "Embedding loaded in: 3.3429787158966064 seconds\n",
      "Clustering embedding...\n",
      "Embedding clustered in: 469.453994512558 seconds\n",
      "Saving embedding cluster labels...\n",
      "Embedding cluster labels saved in: 4.522771120071411 seconds\n"
     ]
    },
    {
     "name": "stderr",
     "output_type": "stream",
     "text": [
      "100%|██████████████████████████████████████████| 10/10 [01:51<00:00, 11.12s/it]\n",
      "100%|███████████████████████████████████████████| 5/5 [37:44<00:00, 452.82s/it]\n"
     ]
    },
    {
     "name": "stdout",
     "output_type": "stream",
     "text": [
      "Scores calculated in 2377.7437727451324 seconds\n"
     ]
    }
   ],
   "source": [
    "scores_400_1000 = run_dimension(6, min_samples=40, min_cluster_size=1000, scores=True)"
   ]
  },
  {
   "cell_type": "code",
   "execution_count": 13,
   "metadata": {},
   "outputs": [
    {
     "name": "stdout",
     "output_type": "stream",
     "text": [
      "Loading saved data...\n",
      "Data loaded in: 31.989396572113037 seconds\n",
      "Loading saved embedding...\n",
      "Embedding loaded in: 3.4905779361724854 seconds\n",
      "Clustering embedding...\n",
      "Embedding clustered in: 467.4492073059082 seconds\n",
      "Saving embedding cluster labels...\n",
      "Embedding cluster labels saved in: 4.4975714683532715 seconds\n"
     ]
    },
    {
     "name": "stderr",
     "output_type": "stream",
     "text": [
      "100%|██████████████████████████████████████████| 10/10 [01:51<00:00, 11.18s/it]\n",
      "100%|███████████████████████████████████████████| 5/5 [38:11<00:00, 458.37s/it]\n"
     ]
    },
    {
     "name": "stdout",
     "output_type": "stream",
     "text": [
      "Scores calculated in 2406.130792617798 seconds\n"
     ]
    }
   ],
   "source": [
    "scores_15_1000 = run_dimension(6, min_samples=15, min_cluster_size=1000, scores=True)"
   ]
  },
  {
   "cell_type": "code",
   "execution_count": 14,
   "metadata": {},
   "outputs": [],
   "source": [
    "li = np.array([scores_1_1000, scores_10_1000, scores_15_1000, scores_100_1000, scores_1000_1000,scores_400_1000])"
   ]
  },
  {
   "cell_type": "code",
   "execution_count": 15,
   "metadata": {},
   "outputs": [
    {
     "data": {
      "text/plain": [
       "array([0.38612253, 0.38841607, 0.38484877, 0.38500874, 0.38534589,\n",
       "       0.38476213])"
      ]
     },
     "execution_count": 15,
     "metadata": {},
     "output_type": "execute_result"
    }
   ],
   "source": [
    "li[:,0]"
   ]
  },
  {
   "cell_type": "code",
   "execution_count": 16,
   "metadata": {},
   "outputs": [
    {
     "data": {
      "text/plain": [
       "array([1.50429441, 1.50040956, 1.53566439, 1.61710129, 1.62822221,\n",
       "       1.60809365])"
      ]
     },
     "execution_count": 16,
     "metadata": {},
     "output_type": "execute_result"
    }
   ],
   "source": [
    "li[:,1]"
   ]
  },
  {
   "cell_type": "code",
   "execution_count": 17,
   "metadata": {},
   "outputs": [
    {
     "data": {
      "text/plain": [
       "array([0.00931573, 0.00942447, 0.00961683, 0.0098779 , 0.00981667,\n",
       "       0.00966469])"
      ]
     },
     "execution_count": 17,
     "metadata": {},
     "output_type": "execute_result"
    }
   ],
   "source": [
    "li[:,2]"
   ]
  },
  {
   "cell_type": "code",
   "execution_count": 11,
   "metadata": {},
   "outputs": [],
   "source": [
    "# min_cluster_size_list = np.arange(100,10100,250)"
   ]
  },
  {
   "cell_type": "code",
   "execution_count": 12,
   "metadata": {},
   "outputs": [],
   "source": [
    "# shapes = []\n",
    "# for size in tqdm(min_cluster_size_list):\n",
    "#     result = run_dimension(6, min_samples=30, min_cluster_size=int(size), frames=True)\n",
    "#     shapes.append(result.shape[0]/2)"
   ]
  },
  {
   "cell_type": "code",
   "execution_count": null,
   "metadata": {},
   "outputs": [],
   "source": []
  },
  {
   "cell_type": "code",
   "execution_count": 18,
   "metadata": {},
   "outputs": [
    {
     "name": "stdout",
     "output_type": "stream",
     "text": [
      "Loading saved data...\n",
      "Data loaded in: 32.98042345046997 seconds\n",
      "Loading saved embedding...\n",
      "Embedding loaded in: 3.400779962539673 seconds\n"
     ]
    },
    {
     "name": "stderr",
     "output_type": "stream",
     "text": [
      "100%|██████████████████████████████████████████| 10/10 [01:52<00:00, 11.22s/it]\n",
      "100%|███████████████████████████████████████████| 5/5 [37:44<00:00, 452.83s/it]\n"
     ]
    },
    {
     "name": "stdout",
     "output_type": "stream",
     "text": [
      "Scores calculated in 2378.783894300461 seconds\n"
     ]
    }
   ],
   "source": [
    "scores_10_1000 = run_dimension(6, min_samples=10, min_cluster_size=1000, scores=True)"
   ]
  },
  {
   "cell_type": "code",
   "execution_count": 19,
   "metadata": {},
   "outputs": [
    {
     "name": "stdout",
     "output_type": "stream",
     "text": [
      "Loading saved data...\n",
      "Data loaded in: 34.10662889480591 seconds\n",
      "Loading saved embedding...\n",
      "Embedding loaded in: 3.449577808380127 seconds\n",
      "Clustering embedding...\n",
      "Embedding clustered in: 477.90698051452637 seconds\n",
      "Saving embedding cluster labels...\n",
      "Embedding cluster labels saved in: 4.594971656799316 seconds\n"
     ]
    },
    {
     "name": "stderr",
     "output_type": "stream",
     "text": [
      "100%|██████████████████████████████████████████| 10/10 [01:52<00:00, 11.25s/it]\n",
      "100%|███████████████████████████████████████████| 5/5 [37:38<00:00, 451.78s/it]\n"
     ]
    },
    {
     "name": "stdout",
     "output_type": "stream",
     "text": [
      "Scores calculated in 2373.8495604991913 seconds\n"
     ]
    }
   ],
   "source": [
    "scores_11_1000 = run_dimension(6, min_samples=11, min_cluster_size=1000, scores=True)"
   ]
  },
  {
   "cell_type": "code",
   "execution_count": 20,
   "metadata": {},
   "outputs": [
    {
     "name": "stdout",
     "output_type": "stream",
     "text": [
      "Loading saved data...\n",
      "Data loaded in: 32.06639552116394 seconds\n",
      "Loading saved embedding...\n",
      "Embedding loaded in: 3.3399789333343506 seconds\n",
      "Clustering embedding...\n",
      "Embedding clustered in: 474.84677052497864 seconds\n",
      "Saving embedding cluster labels...\n",
      "Embedding cluster labels saved in: 4.482571363449097 seconds\n"
     ]
    },
    {
     "name": "stderr",
     "output_type": "stream",
     "text": [
      "100%|██████████████████████████████████████████| 10/10 [01:51<00:00, 11.18s/it]\n",
      "100%|███████████████████████████████████████████| 5/5 [38:07<00:00, 457.55s/it]\n"
     ]
    },
    {
     "name": "stdout",
     "output_type": "stream",
     "text": [
      "Scores calculated in 2402.009056329727 seconds\n"
     ]
    }
   ],
   "source": [
    "scores_12_1000 = run_dimension(6, min_samples=12, min_cluster_size=1000, scores=True)"
   ]
  },
  {
   "cell_type": "code",
   "execution_count": 21,
   "metadata": {},
   "outputs": [
    {
     "name": "stdout",
     "output_type": "stream",
     "text": [
      "Loading saved data...\n",
      "Data loaded in: 33.587385416030884 seconds\n",
      "Loading saved embedding...\n",
      "Embedding loaded in: 3.612177610397339 seconds\n",
      "Clustering embedding...\n",
      "Embedding clustered in: 500.205379486084 seconds\n",
      "Saving embedding cluster labels...\n",
      "Embedding cluster labels saved in: 4.607770681381226 seconds\n"
     ]
    },
    {
     "name": "stderr",
     "output_type": "stream",
     "text": [
      "100%|██████████████████████████████████████████| 10/10 [01:56<00:00, 11.60s/it]\n",
      "100%|███████████████████████████████████████████| 5/5 [39:02<00:00, 468.42s/it]\n"
     ]
    },
    {
     "name": "stdout",
     "output_type": "stream",
     "text": [
      "Scores calculated in 2460.674516916275 seconds\n"
     ]
    }
   ],
   "source": [
    "scores_13_1000 = run_dimension(6, min_samples=13, min_cluster_size=1000, scores=True)"
   ]
  },
  {
   "cell_type": "code",
   "execution_count": 22,
   "metadata": {},
   "outputs": [
    {
     "name": "stdout",
     "output_type": "stream",
     "text": [
      "Loading saved data...\n",
      "Data loaded in: 33.901792764663696 seconds\n",
      "Loading saved embedding...\n",
      "Embedding loaded in: 3.655378818511963 seconds\n",
      "Clustering embedding...\n",
      "Embedding clustered in: 499.5161747932434 seconds\n",
      "Saving embedding cluster labels...\n",
      "Embedding cluster labels saved in: 4.77153754234314 seconds\n"
     ]
    },
    {
     "name": "stderr",
     "output_type": "stream",
     "text": [
      "100%|██████████████████████████████████████████| 10/10 [01:56<00:00, 11.62s/it]\n",
      "100%|███████████████████████████████████████████| 5/5 [38:50<00:00, 466.08s/it]\n"
     ]
    },
    {
     "name": "stdout",
     "output_type": "stream",
     "text": [
      "Scores calculated in 2449.13808965683 seconds\n"
     ]
    }
   ],
   "source": [
    "scores_14_1000 = run_dimension(6, min_samples=14, min_cluster_size=1000, scores=True)"
   ]
  },
  {
   "cell_type": "code",
   "execution_count": 23,
   "metadata": {},
   "outputs": [
    {
     "name": "stdout",
     "output_type": "stream",
     "text": [
      "Loading saved data...\n",
      "Data loaded in: 33.73378562927246 seconds\n",
      "Loading saved embedding...\n",
      "Embedding loaded in: 3.684577226638794 seconds\n"
     ]
    },
    {
     "name": "stderr",
     "output_type": "stream",
     "text": [
      "100%|██████████████████████████████████████████| 10/10 [01:55<00:00, 11.59s/it]\n",
      "100%|███████████████████████████████████████████| 5/5 [38:47<00:00, 465.54s/it]\n"
     ]
    },
    {
     "name": "stdout",
     "output_type": "stream",
     "text": [
      "Scores calculated in 2446.1773359775543 seconds\n"
     ]
    }
   ],
   "source": [
    "scores_15_1000 = run_dimension(6, min_samples=15, min_cluster_size=1000, scores=True)"
   ]
  },
  {
   "cell_type": "code",
   "execution_count": 24,
   "metadata": {},
   "outputs": [],
   "source": [
    "li = np.array([scores_10_1000, scores_11_1000, scores_12_1000, scores_13_1000, scores_14_1000, scores_15_1000])"
   ]
  },
  {
   "cell_type": "code",
   "execution_count": 25,
   "metadata": {},
   "outputs": [
    {
     "data": {
      "text/plain": [
       "array([0.3920436 , 0.39445895, 0.387932  , 0.38211347, 0.38994685,\n",
       "       0.39074388])"
      ]
     },
     "execution_count": 25,
     "metadata": {},
     "output_type": "execute_result"
    }
   ],
   "source": [
    "li[:,0]"
   ]
  },
  {
   "cell_type": "code",
   "execution_count": 26,
   "metadata": {},
   "outputs": [
    {
     "data": {
      "text/plain": [
       "array([1.50040956, 1.57878491, 1.61505475, 1.62085639, 1.52398947,\n",
       "       1.53566439])"
      ]
     },
     "execution_count": 26,
     "metadata": {},
     "output_type": "execute_result"
    }
   ],
   "source": [
    "li[:,1]"
   ]
  },
  {
   "cell_type": "code",
   "execution_count": 27,
   "metadata": {},
   "outputs": [
    {
     "data": {
      "text/plain": [
       "array([0.00810991, 0.00948163, 0.00846244, 0.00941988, 0.0095641 ,\n",
       "       0.00987024])"
      ]
     },
     "execution_count": 27,
     "metadata": {},
     "output_type": "execute_result"
    }
   ],
   "source": [
    "li[:,2]"
   ]
  },
  {
   "cell_type": "code",
   "execution_count": null,
   "metadata": {},
   "outputs": [],
   "source": []
  }
 ],
 "metadata": {
  "kernelspec": {
   "display_name": "Python 3",
   "language": "python",
   "name": "python3"
  },
  "language_info": {
   "codemirror_mode": {
    "name": "ipython",
    "version": 3
   },
   "file_extension": ".py",
   "mimetype": "text/x-python",
   "name": "python",
   "nbconvert_exporter": "python",
   "pygments_lexer": "ipython3",
   "version": "3.8.5"
  }
 },
 "nbformat": 4,
 "nbformat_minor": 4
}
